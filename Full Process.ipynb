{
 "metadata": {
  "name": "",
  "signature": "sha256:43c5aeb29510270a7fffddd35b95dd62b23136a7970c5350f439889b7a07ada8"
 },
 "nbformat": 3,
 "nbformat_minor": 0,
 "worksheets": [
  {
   "cells": [
    {
     "cell_type": "code",
     "collapsed": false,
     "input": [
      "import json\n",
      "import requests\n",
      "from datetime import datetime\n",
      "from copy import copy\n",
      "import numpy as np\n",
      "\n",
      "world_cup_data_url = 'http://worldcup.sfg.io/matches'\n",
      "API_KEY=\"db85f99e5e2296344f757ca9d8caab11\"\n",
      "API_URL=\"https://api.forecast.io/forecast\""
     ],
     "language": "python",
     "metadata": {},
     "outputs": []
    }
   ],
   "metadata": {}
  }
 ]
}